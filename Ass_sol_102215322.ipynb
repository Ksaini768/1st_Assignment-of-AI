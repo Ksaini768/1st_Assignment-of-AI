{
  "nbformat": 4,
  "nbformat_minor": 0,
  "metadata": {
    "colab": {
      "provenance": [],
      "authorship_tag": "ABX9TyO4epoYAeJ7Pl//1Lwlc3N7",
      "include_colab_link": true
    },
    "kernelspec": {
      "name": "python3",
      "display_name": "Python 3"
    },
    "language_info": {
      "name": "python"
    }
  },
  "cells": [
    {
      "cell_type": "markdown",
      "metadata": {
        "id": "view-in-github",
        "colab_type": "text"
      },
      "source": [
        "<a href=\"https://colab.research.google.com/github/Ksaini768/1st_Assignment-of-AI/blob/main/Ass_sol_102215322.ipynb\" target=\"_parent\"><img src=\"https://colab.research.google.com/assets/colab-badge.svg\" alt=\"Open In Colab\"/></a>"
      ]
    },
    {
      "cell_type": "code",
      "execution_count": 2,
      "metadata": {
        "colab": {
          "base_uri": "https://localhost:8080/"
        },
        "id": "IHNSWzynrk_H",
        "outputId": "48194764-a5fd-4669-972f-21d409961da2"
      },
      "outputs": [
        {
          "output_type": "stream",
          "name": "stdout",
          "text": [
            "Input Values:  [-5, 0, 3, -2, 10]\n",
            "Relu Outputs:  [0, 0, 3, 0, 10]\n"
          ]
        }
      ],
      "source": [
        "def relu(x):\n",
        "    if x >= 0:\n",
        "        return x\n",
        "    else:\n",
        "        return 0\n",
        "\n",
        "test_values = [-5, 0, 3, -2, 10]\n",
        "relu_results = [relu(x) for x in test_values]\n",
        "\n",
        "print(\"Input Values: \", test_values)\n",
        "print(\"Relu Outputs: \", relu_results)\n"
      ]
    },
    {
      "cell_type": "code",
      "source": [
        "import math\n",
        "def euclidean_norm(vector):\n",
        "    sum_of_squares = 0\n",
        "    for component in vector:\n",
        "        sum_of_squares += component ** 2\n",
        "    return math.sqrt(sum_of_squares)\n",
        "vector = [3, 4, 12]\n",
        "norm = euclidean_norm(vector)\n",
        "\n",
        "print(f\"Vector: {vector}\")\n",
        "print(f\"Euclidean Norm: {norm}\")\n"
      ],
      "metadata": {
        "colab": {
          "base_uri": "https://localhost:8080/"
        },
        "id": "shYdbu-ItNJs",
        "outputId": "51d67b0a-9836-46ee-822f-93a63e2cdd40"
      },
      "execution_count": 3,
      "outputs": [
        {
          "output_type": "stream",
          "name": "stdout",
          "text": [
            "Vector: [3, 4, 12]\n",
            "Euclidean Norm: 13.0\n"
          ]
        }
      ]
    },
    {
      "cell_type": "code",
      "source": [
        "def find_max(vector):\n",
        "    if len(vector) == 0:\n",
        "        return None\n",
        "\n",
        "    max_value = vector[0]\n",
        "\n",
        "    for num in vector:\n",
        "        if num > max_value:\n",
        "            max_value = num\n",
        "\n",
        "    return max_value\n",
        "vector = [3, 7, 2, 9, 1, 8]\n",
        "max_val = find_max(vector)\n",
        "\n",
        "print(f\"Vector: {vector}\")\n",
        "print(f\"Maximum value: {max_val}\")\n"
      ],
      "metadata": {
        "colab": {
          "base_uri": "https://localhost:8080/"
        },
        "id": "EAzjV_nntuV_",
        "outputId": "21d61adc-3ae2-4e0e-81b3-a9b4509679ac"
      },
      "execution_count": 4,
      "outputs": [
        {
          "output_type": "stream",
          "name": "stdout",
          "text": [
            "Vector: [3, 7, 2, 9, 1, 8]\n",
            "Maximum value: 9\n"
          ]
        }
      ]
    },
    {
      "cell_type": "code",
      "source": [
        "def bubble_sort(lst):\n",
        "    n = len(lst)\n",
        "    for i in range(n):\n",
        "        for j in range(0, n-i-1):\n",
        "            if lst[j] > lst[j+1]:\n",
        "                lst[j], lst[j+1] = lst[j+1], lst[j]\n",
        "    return lst\n",
        "\n",
        "unsorted_list = [64, 34, 25, 12, 22, 11, 90]\n",
        "sorted_list = bubble_sort(unsorted_list)\n",
        "\n",
        "print(f\"Unsorted List: {unsorted_list}\")\n",
        "print(f\"Sorted List: {sorted_list}\")\n"
      ],
      "metadata": {
        "colab": {
          "base_uri": "https://localhost:8080/"
        },
        "id": "wwtSwJIct3IU",
        "outputId": "8ea09364-6179-43b1-c09f-35a2abaf8130"
      },
      "execution_count": 5,
      "outputs": [
        {
          "output_type": "stream",
          "name": "stdout",
          "text": [
            "Unsorted List: [11, 12, 22, 25, 34, 64, 90]\n",
            "Sorted List: [11, 12, 22, 25, 34, 64, 90]\n"
          ]
        }
      ]
    },
    {
      "cell_type": "code",
      "source": [
        "import numpy as np\n",
        "array_3d = np.array([[[1, 2], [3, 4]],\n",
        "                     [[5, 6], [7, 8]]])\n",
        "\n",
        "print(\"3D Array:\")\n",
        "print(array_3d)\n",
        "\n",
        "print(\"\\nAccessing individual elements:\")\n",
        "print(\"Element at [0, 0, 0]:\", array_3d[0, 0, 0])\n",
        "print(\"Element at [1, 1, 1]:\", array_3d[1, 1, 1])\n",
        "\n",
        "print(\"\\nAccessing slices:\")\n",
        "print(\"Slice of the first 'layer':\\n\", array_3d[0, :, :])\n",
        "print(\"Slice of the second 'layer':\\n\", array_3d[1, :, :])\n",
        "print(\"Slice of all first rows in each layer:\\n\", array_3d[:, 0, :])\n",
        "print(\"Slice of all second columns in each layer:\\n\", array_3d[:, :, 1])\n"
      ],
      "metadata": {
        "colab": {
          "base_uri": "https://localhost:8080/"
        },
        "id": "X7BXaU5UuCAD",
        "outputId": "e126b50d-eadb-49f6-f57e-bf4187bd9a98"
      },
      "execution_count": 6,
      "outputs": [
        {
          "output_type": "stream",
          "name": "stdout",
          "text": [
            "3D Array:\n",
            "[[[1 2]\n",
            "  [3 4]]\n",
            "\n",
            " [[5 6]\n",
            "  [7 8]]]\n",
            "\n",
            "Accessing individual elements:\n",
            "Element at [0, 0, 0]: 1\n",
            "Element at [1, 1, 1]: 8\n",
            "\n",
            "Accessing slices:\n",
            "Slice of the first 'layer':\n",
            " [[1 2]\n",
            " [3 4]]\n",
            "Slice of the second 'layer':\n",
            " [[5 6]\n",
            " [7 8]]\n",
            "Slice of all first rows in each layer:\n",
            " [[1 2]\n",
            " [5 6]]\n",
            "Slice of all second columns in each layer:\n",
            " [[2 4]\n",
            " [6 8]]\n"
          ]
        }
      ]
    },
    {
      "cell_type": "code",
      "source": [
        "import numpy as np\n",
        "def relu(x):\n",
        "    return np.maximum(0, x)\n",
        "single_value = -3\n",
        "relu_single = relu(single_value)\n",
        "print(f\"Relu of single value {single_value}: {relu_single}\")\n",
        "\n",
        "array_values = np.array([-5, -2, 0, 2, 5])\n",
        "relu_array = relu(array_values)\n",
        "print(f\"Relu of array {array_values}: {relu_array}\")\n"
      ],
      "metadata": {
        "colab": {
          "base_uri": "https://localhost:8080/"
        },
        "id": "wfERYRXnudk4",
        "outputId": "be2100fd-bd0e-43ee-b05e-fa120a391136"
      },
      "execution_count": 7,
      "outputs": [
        {
          "output_type": "stream",
          "name": "stdout",
          "text": [
            "Relu of single value -3: 0\n",
            "Relu of array [-5 -2  0  2  5]: [0 0 0 2 5]\n"
          ]
        }
      ]
    },
    {
      "cell_type": "code",
      "source": [
        "import numpy as np\n",
        "def euclidean_norm(vector):\n",
        "    return np.sqrt(np.sum(np.square(vector)))\n",
        "vector = np.array([3, 4, 12])\n",
        "norm = euclidean_norm(vector)\n",
        "\n",
        "print(f\"Vector: {vector}\")\n",
        "print(f\"Euclidean Norm: {norm}\")\n"
      ],
      "metadata": {
        "colab": {
          "base_uri": "https://localhost:8080/"
        },
        "id": "xQYuD594uvpL",
        "outputId": "62e8d83a-f951-44d7-c4bc-69a7b6f8f4fa"
      },
      "execution_count": 8,
      "outputs": [
        {
          "output_type": "stream",
          "name": "stdout",
          "text": [
            "Vector: [ 3  4 12]\n",
            "Euclidean Norm: 13.0\n"
          ]
        }
      ]
    },
    {
      "cell_type": "code",
      "source": [
        "import numpy as np\n",
        "def row_wise_euclidean_norm(matrix):\n",
        "    return np.sqrt(np.sum(np.square(matrix), axis=1))\n",
        "matrix = np.array([[1, 2], [3, 4], [5, 6]])\n",
        "norms = row_wise_euclidean_norm(matrix)\n",
        "\n",
        "print(f\"Matrix:\\n{matrix}\")\n",
        "print(f\"Row-wise Euclidean Norms: {norms}\")\n"
      ],
      "metadata": {
        "colab": {
          "base_uri": "https://localhost:8080/"
        },
        "id": "w4cxouSau6ag",
        "outputId": "613a5943-636e-4293-834c-91ba554fc138"
      },
      "execution_count": 9,
      "outputs": [
        {
          "output_type": "stream",
          "name": "stdout",
          "text": [
            "Matrix:\n",
            "[[1 2]\n",
            " [3 4]\n",
            " [5 6]]\n",
            "Row-wise Euclidean Norms: [2.23606798 5.         7.81024968]\n"
          ]
        }
      ]
    },
    {
      "cell_type": "code",
      "source": [
        "from sklearn import datasets\n",
        "import numpy as np\n",
        "\n",
        "iris = datasets.load_iris()\n",
        "data = iris.data\n",
        "\n",
        "feature_means = np.mean(data, axis=0)\n",
        "\n",
        "print(f\"Mean values of the features in the Iris dataset: {feature_means}\")\n"
      ],
      "metadata": {
        "colab": {
          "base_uri": "https://localhost:8080/"
        },
        "id": "eU5S7N_qvMtW",
        "outputId": "af0dfc10-b1f9-42c9-cd4b-675c602940f4"
      },
      "execution_count": 10,
      "outputs": [
        {
          "output_type": "stream",
          "name": "stdout",
          "text": [
            "Mean values of the features in the Iris dataset: [5.84333333 3.05733333 3.758      1.19933333]\n"
          ]
        }
      ]
    },
    {
      "cell_type": "code",
      "source": [
        "import numpy as np\n",
        "import matplotlib.pyplot as plt\n",
        "def relu(x):\n",
        "    return np.maximum(0, x)\n",
        "\n",
        "def softplus(x):\n",
        "    return np.log(1 + np.exp(x))\n",
        "\n",
        "x = np.linspace(-10, 10, 400)\n",
        "\n",
        "relu_values = relu(x)\n",
        "softplus_values = softplus(x)\n",
        "\n",
        "plt.figure(figsize=(8, 6))\n",
        "plt.plot(x, relu_values, label=\"ReLU\", color=\"blue\", linestyle=\"--\")\n",
        "plt.plot(x, softplus_values, label=\"Softplus\", color=\"green\")\n",
        "plt.title(\"ReLU vs Softplus\")\n",
        "plt.xlabel(\"x\")\n",
        "plt.ylabel(\"f(x)\")\n",
        "plt.legend()\n",
        "plt.grid(True)\n",
        "plt.show()\n"
      ],
      "metadata": {
        "colab": {
          "base_uri": "https://localhost:8080/",
          "height": 564
        },
        "id": "4BTI-LBMvWeB",
        "outputId": "e765969c-e402-4fbe-efc3-d60d98c69b25"
      },
      "execution_count": 11,
      "outputs": [
        {
          "output_type": "display_data",
          "data": {
            "text/plain": [
              "<Figure size 800x600 with 1 Axes>"
            ],
            "image/png": "[encoded data removed]"
          },
          "metadata": {}
        }
      ]
    },
    {
      "cell_type": "code",
      "source": [
        "from sklearn import datasets\n",
        "import matplotlib.pyplot as plt\n",
        "\n",
        "# Load the digits dataset\n",
        "digits = datasets.load_digits()\n",
        "data = digits.data  # Features\n",
        "target = digits.target  # Labels\n",
        "\n",
        "# Plot a scatter plot using the first two features\n",
        "plt.figure(figsize=(8, 6))\n",
        "plt.scatter(data[:, 0], data[:, 1], c=target, cmap='viridis', edgecolor='k', s=50)\n",
        "plt.title(\"Scatter Plot of Digits Dataset (First Two Features)\")\n",
        "plt.xlabel(\"Feature 1\")\n",
        "plt.ylabel(\"Feature 2\")\n",
        "plt.colorbar(label=\"Digit Label\")\n",
        "plt.grid(True)\n",
        "plt.show()\n"
      ],
      "metadata": {
        "colab": {
          "base_uri": "https://localhost:8080/",
          "height": 564
        },
        "id": "iVe_gW_ZvxJQ",
        "outputId": "494fee47-7369-4819-e252-d74d8916c0f8"
      },
      "execution_count": 12,
      "outputs": [
        {
          "output_type": "display_data",
          "data": {
            "text/plain": [
              "<Figure size 800x600 with 2 Axes>"
            ],
            "image/png": "[encoded data removed]"
          },
          "metadata": {}
        }
      ]
    }
  ]
}